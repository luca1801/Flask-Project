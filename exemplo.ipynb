{
 "cells": [
  {
   "cell_type": "code",
   "execution_count": null,
   "metadata": {},
   "outputs": [
    {
     "name": "stdout",
     "output_type": "stream",
     "text": [
      "['41065063937', '41065063356', '31065063938']\n",
      "novo usuario\n"
     ]
    }
   ],
   "source": [
    "func = {\n",
    "    'Araujo Abreu':\n",
    "    {'nome': ['Marcos Palmeiras', 'Bruno Souza', 'Nathan'],\n",
    "    'cpf': ['41065063937', '41065063356', '31065063938']}}\n",
    "\n",
    "print(func['Araujo Abreu']['cpf'])\n",
    "if '41065063256' in func['Araujo Abreu']['cpf']:\n",
    "    print('Usuario ja cadastrado no sistema da empresa')\n",
    "else:\n",
    "    print('novo usuario')"
   ]
  },
  {
   "cell_type": "code",
   "execution_count": null,
   "metadata": {},
   "outputs": [],
   "source": []
  },
  {
   "cell_type": "code",
   "execution_count": 1,
   "metadata": {},
   "outputs": [
    {
     "name": "stdout",
     "output_type": "stream",
     "text": [
      "nome:Marcos Palmeiras\n",
      "cpf:41065063937\n",
      "empresa:araujo abreu\n"
     ]
    },
    {
     "ename": "IndexError",
     "evalue": "list index out of range",
     "output_type": "error",
     "traceback": [
      "\u001b[1;31m---------------------------------------------------------------------------\u001b[0m",
      "\u001b[1;31mIndexError\u001b[0m                                Traceback (most recent call last)",
      "Cell \u001b[1;32mIn[1], line 11\u001b[0m\n\u001b[0;32m      8\u001b[0m values\n\u001b[0;32m     10\u001b[0m \u001b[38;5;28;01mfor\u001b[39;00m i,j \u001b[38;5;129;01min\u001b[39;00m \u001b[38;5;28menumerate\u001b[39m(values):\n\u001b[1;32m---> 11\u001b[0m     \u001b[38;5;28mprint\u001b[39m(\u001b[38;5;124mf\u001b[39m\u001b[38;5;124m'\u001b[39m\u001b[38;5;132;01m{\u001b[39;00mkeys[i]\u001b[38;5;132;01m}\u001b[39;00m\u001b[38;5;124m:\u001b[39m\u001b[38;5;132;01m{\u001b[39;00mj\u001b[38;5;132;01m}\u001b[39;00m\u001b[38;5;124m'\u001b[39m)\n",
      "\u001b[1;31mIndexError\u001b[0m: list index out of range"
     ]
    }
   ],
   "source": [
    "keys = ['nome','cpf','empresa']\n",
    "values = ['Marcos Palmeiras', '41065063937', 'araujo abreu']\n",
    "values.append(['lucas','123456789', 'tecal'])\n",
    "\n",
    "#func.update({'Araujo Abreu2':{'nome': 'lucas', 'cpf':'123456789'}})\n",
    "#func['Araujo Abreu'].append({'nome': 'lucas', 'cpf':'123456789'})\n",
    "#func | func2\n",
    "values\n",
    "    \n",
    "for i,j in enumerate(values):\n",
    "    print(f'{keys[i]}:{j}')"
   ]
  }
 ],
 "metadata": {
  "kernelspec": {
   "display_name": "base",
   "language": "python",
   "name": "python3"
  },
  "language_info": {
   "codemirror_mode": {
    "name": "ipython",
    "version": 3
   },
   "file_extension": ".py",
   "mimetype": "text/x-python",
   "name": "python",
   "nbconvert_exporter": "python",
   "pygments_lexer": "ipython3",
   "version": "3.9.19"
  }
 },
 "nbformat": 4,
 "nbformat_minor": 2
}
